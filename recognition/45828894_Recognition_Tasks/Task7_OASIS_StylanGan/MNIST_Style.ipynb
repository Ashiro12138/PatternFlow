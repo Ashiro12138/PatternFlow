{
 "cells": [
  {
   "cell_type": "markdown",
   "source": [
    "# OASIS Brain Stylegan"
   ],
   "metadata": {
    "collapsed": false
   }
  },
  {
   "cell_type": "markdown",
   "source": [
    "## Import Packages"
   ],
   "metadata": {
    "collapsed": false
   }
  },
  {
   "cell_type": "code",
   "execution_count": 741,
   "outputs": [
    {
     "name": "stdout",
     "output_type": "stream",
     "text": [
      "2.5.0\n",
      "[PhysicalDevice(name='/physical_device:GPU:0', device_type='GPU')]\n",
      "Import Complete\n"
     ]
    }
   ],
   "source": [
    "import os\n",
    "# os.environ[\"CUDA_VISIBLE_DEVICES\"]=\"1\"\n",
    "# tf_device='/gpu:0'import time\n",
    "import tensorflow as tf\n",
    "print(tf.__version__)\n",
    "print(tf.config.list_physical_devices(\"GPU\"))\n",
    "\n",
    "\n",
    "import matplotlib.pyplot as plt\n",
    "import pandas as pd\n",
    "from random import random, randint\n",
    "from tensorflow.keras import layers\n",
    "from tensorflow.keras import backend as k\n",
    "from IPython.display import clear_output\n",
    "import time\n",
    "from tqdm import tqdm\n",
    "import numpy as np\n",
    "import tensorflow_datasets as tfds\n",
    "\n",
    "print(\"Import Complete\")"
   ],
   "metadata": {
    "collapsed": false,
    "pycharm": {
     "name": "#%%\n"
    }
   }
  },
  {
   "cell_type": "markdown",
   "source": [
    "## Set up constant variables"
   ],
   "metadata": {
    "collapsed": false
   }
  },
  {
   "cell_type": "code",
   "execution_count": 742,
   "outputs": [],
   "source": [
    "BATCH_SIZE = 256\n",
    "EPOCHS = 30\n",
    "IMAGE_SIZE = 28\n",
    "h, w = IMAGE_SIZE, IMAGE_SIZE"
   ],
   "metadata": {
    "collapsed": false,
    "pycharm": {
     "name": "#%%\n"
    }
   }
  },
  {
   "cell_type": "markdown",
   "source": [
    "## Load Data"
   ],
   "metadata": {
    "collapsed": false
   }
  },
  {
   "cell_type": "code",
   "execution_count": 743,
   "outputs": [],
   "source": [
    "train_ds, ds_info = tfds.load(\n",
    "    'mnist',\n",
    "    shuffle_files=True,\n",
    "    as_supervised=True,\n",
    "    with_info=True,\n",
    ")\n",
    "train_ds = train_ds['train']\n",
    "train_ds = train_ds.map(lambda x, y: layers.experimental.preprocessing.Rescaling(scale=1./127.5, offset=-1)(x))\n",
    "train_ds = train_ds.shuffle(BATCH_SIZE).batch(BATCH_SIZE).prefetch(buffer_size=tf.data.AUTOTUNE).cache()"
   ],
   "metadata": {
    "collapsed": false,
    "pycharm": {
     "name": "#%%\n"
    }
   }
  },
  {
   "cell_type": "markdown",
   "source": [
    "## Preprocess Images\n",
    "### Normalization"
   ],
   "metadata": {
    "collapsed": false
   }
  },
  {
   "cell_type": "code",
   "execution_count": 743,
   "outputs": [],
   "source": [],
   "metadata": {
    "collapsed": false,
    "pycharm": {
     "name": "#%%\n"
    }
   }
  },
  {
   "cell_type": "markdown",
   "source": [
    "## Preview Data"
   ],
   "metadata": {
    "collapsed": false
   }
  },
  {
   "cell_type": "code",
   "execution_count": 744,
   "outputs": [
    {
     "data": {
      "text/plain": "<Figure size 432x288 with 1 Axes>",
      "image/png": "[encoded data removed]"
     },
     "metadata": {
      "needs_background": "light"
     },
     "output_type": "display_data"
    },
    {
     "name": "stdout",
     "output_type": "stream",
     "text": [
      "Shape: (28, 28, 1)\n",
      "Data Type: <dtype: 'float32'>\n",
      "Min tf.Tensor(-1.0, shape=(), dtype=float32)\n",
      "Max tf.Tensor(1.0, shape=(), dtype=float32)\n"
     ]
    }
   ],
   "source": [
    "imageNum = randint(0, BATCH_SIZE-1)\n",
    "previewImage = list(train_ds.take(1))[0][imageNum]\n",
    "plt.imshow(previewImage, cmap='gray')\n",
    "plt.show()\n",
    "\n",
    "print(\"Shape:\", previewImage.shape)\n",
    "print(\"Data Type:\", previewImage.dtype)\n",
    "print(\"Min\", tf.math.reduce_min(previewImage))\n",
    "print(\"Max\", tf.math.reduce_max(previewImage))"
   ],
   "metadata": {
    "collapsed": false,
    "pycharm": {
     "name": "#%%\n"
    }
   }
  },
  {
   "cell_type": "markdown",
   "source": [
    "## Initialize Models"
   ],
   "metadata": {
    "collapsed": false
   }
  },
  {
   "cell_type": "code",
   "execution_count": 745,
   "outputs": [
    {
     "name": "stdout",
     "output_type": "stream",
     "text": [
      "Model: \"model_152\"\n",
      "__________________________________________________________________________________________________\n",
      "Layer (type)                    Output Shape         Param #     Connected to                     \n",
      "==================================================================================================\n",
      "input_203 (InputLayer)          [(None, 100)]        0                                            \n",
      "__________________________________________________________________________________________________\n",
      "input_202 (InputLayer)          [(None, 100)]        0                                            \n",
      "__________________________________________________________________________________________________\n",
      "input_201 (InputLayer)          [(None, 100)]        0                                            \n",
      "__________________________________________________________________________________________________\n",
      "dense_1107 (Dense)              (None, 1568)         158368      input_203[0][0]                  \n",
      "__________________________________________________________________________________________________\n",
      "model_151 (Functional)          (None, 100)          80800       input_201[0][0]                  \n",
      "                                                                 input_202[0][0]                  \n",
      "                                                                 input_203[0][0]                  \n",
      "__________________________________________________________________________________________________\n",
      "reshape_125 (Reshape)           (None, 7, 7, 32)     0           dense_1107[0][0]                 \n",
      "__________________________________________________________________________________________________\n",
      "dense_1108 (Dense)              (None, 32)           3232        model_151[0][0]                  \n",
      "__________________________________________________________________________________________________\n",
      "conv2d_483 (Conv2D)             (None, 7, 7, 32)     9248        reshape_125[0][0]                \n",
      "__________________________________________________________________________________________________\n",
      "tf.compat.v1.shape_225 (TFOpLam (2,)                 0           dense_1108[0][0]                 \n",
      "__________________________________________________________________________________________________\n",
      "tf.math.reduce_mean_393 (TFOpLa ()                   0           conv2d_483[0][0]                 \n",
      "__________________________________________________________________________________________________\n",
      "tf.math.reduce_std_131 (TFOpLam ()                   0           conv2d_483[0][0]                 \n",
      "__________________________________________________________________________________________________\n",
      "dense_1109 (Dense)              (None, 32)           3232        model_151[0][0]                  \n",
      "__________________________________________________________________________________________________\n",
      "tf.__operators__.getitem_225 (S ()                   0           tf.compat.v1.shape_225[0][0]     \n",
      "__________________________________________________________________________________________________\n",
      "tf.math.subtract_258 (TFOpLambd (None, 7, 7, 32)     0           conv2d_483[0][0]                 \n",
      "                                                                 tf.math.reduce_mean_393[0][0]    \n",
      "__________________________________________________________________________________________________\n",
      "tf.__operators__.add_114 (TFOpL ()                   0           tf.math.reduce_std_131[0][0]     \n",
      "__________________________________________________________________________________________________\n",
      "tf.compat.v1.shape_226 (TFOpLam (2,)                 0           dense_1109[0][0]                 \n",
      "__________________________________________________________________________________________________\n",
      "tf.reshape_225 (TFOpLambda)     (None, 1, 1, None)   0           dense_1108[0][0]                 \n",
      "                                                                 tf.__operators__.getitem_225[0][0\n",
      "__________________________________________________________________________________________________\n",
      "tf.math.truediv_126 (TFOpLambda (None, 7, 7, 32)     0           tf.math.subtract_258[0][0]       \n",
      "                                                                 tf.__operators__.add_114[0][0]   \n",
      "__________________________________________________________________________________________________\n",
      "tf.__operators__.getitem_226 (S ()                   0           tf.compat.v1.shape_226[0][0]     \n",
      "__________________________________________________________________________________________________\n",
      "tf.math.multiply_126 (TFOpLambd (None, 7, 7, 32)     0           tf.reshape_225[0][0]             \n",
      "                                                                 tf.math.truediv_126[0][0]        \n",
      "__________________________________________________________________________________________________\n",
      "tf.reshape_226 (TFOpLambda)     (None, 1, 1, None)   0           dense_1109[0][0]                 \n",
      "                                                                 tf.__operators__.getitem_226[0][0\n",
      "__________________________________________________________________________________________________\n",
      "tf.math.add_120 (TFOpLambda)    (None, 7, 7, 32)     0           tf.math.multiply_126[0][0]       \n",
      "                                                                 tf.reshape_226[0][0]             \n",
      "__________________________________________________________________________________________________\n",
      "up_sampling2d_248 (UpSampling2D (None, 14, 14, 32)   0           tf.math.add_120[0][0]            \n",
      "__________________________________________________________________________________________________\n",
      "dense_1110 (Dense)              (None, 32)           3232        model_151[1][0]                  \n",
      "__________________________________________________________________________________________________\n",
      "conv2d_484 (Conv2D)             (None, 14, 14, 32)   9248        up_sampling2d_248[0][0]          \n",
      "__________________________________________________________________________________________________\n",
      "tf.compat.v1.shape_227 (TFOpLam (2,)                 0           dense_1110[0][0]                 \n",
      "__________________________________________________________________________________________________\n",
      "tf.math.reduce_mean_396 (TFOpLa ()                   0           conv2d_484[0][0]                 \n",
      "__________________________________________________________________________________________________\n",
      "tf.math.reduce_std_132 (TFOpLam ()                   0           conv2d_484[0][0]                 \n",
      "__________________________________________________________________________________________________\n",
      "dense_1111 (Dense)              (None, 32)           3232        model_151[1][0]                  \n",
      "__________________________________________________________________________________________________\n",
      "tf.__operators__.getitem_227 (S ()                   0           tf.compat.v1.shape_227[0][0]     \n",
      "__________________________________________________________________________________________________\n",
      "tf.math.subtract_260 (TFOpLambd (None, 14, 14, 32)   0           conv2d_484[0][0]                 \n",
      "                                                                 tf.math.reduce_mean_396[0][0]    \n",
      "__________________________________________________________________________________________________\n",
      "tf.__operators__.add_115 (TFOpL ()                   0           tf.math.reduce_std_132[0][0]     \n",
      "__________________________________________________________________________________________________\n",
      "tf.compat.v1.shape_228 (TFOpLam (2,)                 0           dense_1111[0][0]                 \n",
      "__________________________________________________________________________________________________\n",
      "tf.reshape_227 (TFOpLambda)     (None, 1, 1, None)   0           dense_1110[0][0]                 \n",
      "                                                                 tf.__operators__.getitem_227[0][0\n",
      "__________________________________________________________________________________________________\n",
      "tf.math.truediv_127 (TFOpLambda (None, 14, 14, 32)   0           tf.math.subtract_260[0][0]       \n",
      "                                                                 tf.__operators__.add_115[0][0]   \n",
      "__________________________________________________________________________________________________\n",
      "tf.__operators__.getitem_228 (S ()                   0           tf.compat.v1.shape_228[0][0]     \n",
      "__________________________________________________________________________________________________\n",
      "tf.math.multiply_127 (TFOpLambd (None, 14, 14, 32)   0           tf.reshape_227[0][0]             \n",
      "                                                                 tf.math.truediv_127[0][0]        \n",
      "__________________________________________________________________________________________________\n",
      "tf.reshape_228 (TFOpLambda)     (None, 1, 1, None)   0           dense_1111[0][0]                 \n",
      "                                                                 tf.__operators__.getitem_228[0][0\n",
      "__________________________________________________________________________________________________\n",
      "tf.math.add_121 (TFOpLambda)    (None, 14, 14, 32)   0           tf.math.multiply_127[0][0]       \n",
      "                                                                 tf.reshape_228[0][0]             \n",
      "__________________________________________________________________________________________________\n",
      "up_sampling2d_249 (UpSampling2D (None, 28, 28, 32)   0           tf.math.add_121[0][0]            \n",
      "__________________________________________________________________________________________________\n",
      "dense_1112 (Dense)              (None, 32)           3232        model_151[2][0]                  \n",
      "__________________________________________________________________________________________________\n",
      "conv2d_485 (Conv2D)             (None, 28, 28, 32)   9248        up_sampling2d_249[0][0]          \n",
      "__________________________________________________________________________________________________\n",
      "tf.compat.v1.shape_229 (TFOpLam (2,)                 0           dense_1112[0][0]                 \n",
      "__________________________________________________________________________________________________\n",
      "tf.math.reduce_mean_399 (TFOpLa ()                   0           conv2d_485[0][0]                 \n",
      "__________________________________________________________________________________________________\n",
      "tf.math.reduce_std_133 (TFOpLam ()                   0           conv2d_485[0][0]                 \n",
      "__________________________________________________________________________________________________\n",
      "dense_1113 (Dense)              (None, 32)           3232        model_151[2][0]                  \n",
      "__________________________________________________________________________________________________\n",
      "tf.__operators__.getitem_229 (S ()                   0           tf.compat.v1.shape_229[0][0]     \n",
      "__________________________________________________________________________________________________\n",
      "tf.math.subtract_262 (TFOpLambd (None, 28, 28, 32)   0           conv2d_485[0][0]                 \n",
      "                                                                 tf.math.reduce_mean_399[0][0]    \n",
      "__________________________________________________________________________________________________\n",
      "tf.__operators__.add_116 (TFOpL ()                   0           tf.math.reduce_std_133[0][0]     \n",
      "__________________________________________________________________________________________________\n",
      "tf.compat.v1.shape_230 (TFOpLam (2,)                 0           dense_1113[0][0]                 \n",
      "__________________________________________________________________________________________________\n",
      "tf.reshape_229 (TFOpLambda)     (None, 1, 1, None)   0           dense_1112[0][0]                 \n",
      "                                                                 tf.__operators__.getitem_229[0][0\n",
      "__________________________________________________________________________________________________\n",
      "tf.math.truediv_128 (TFOpLambda (None, 28, 28, 32)   0           tf.math.subtract_262[0][0]       \n",
      "                                                                 tf.__operators__.add_116[0][0]   \n",
      "__________________________________________________________________________________________________\n",
      "tf.__operators__.getitem_230 (S ()                   0           tf.compat.v1.shape_230[0][0]     \n",
      "__________________________________________________________________________________________________\n",
      "tf.math.multiply_128 (TFOpLambd (None, 28, 28, 32)   0           tf.reshape_229[0][0]             \n",
      "                                                                 tf.math.truediv_128[0][0]        \n",
      "__________________________________________________________________________________________________\n",
      "tf.reshape_230 (TFOpLambda)     (None, 1, 1, None)   0           dense_1113[0][0]                 \n",
      "                                                                 tf.__operators__.getitem_230[0][0\n",
      "__________________________________________________________________________________________________\n",
      "tf.math.add_122 (TFOpLambda)    (None, 28, 28, 32)   0           tf.math.multiply_128[0][0]       \n",
      "                                                                 tf.reshape_230[0][0]             \n",
      "__________________________________________________________________________________________________\n",
      "dense_1114 (Dense)              (None, 28, 28, 1)    33          tf.math.add_122[0][0]            \n",
      "==================================================================================================\n",
      "Total params: 286,337\n",
      "Trainable params: 286,337\n",
      "Non-trainable params: 0\n",
      "__________________________________________________________________________________________________\n"
     ]
    }
   ],
   "source": [
    "LATENT_SIZE = 100\n",
    "\n",
    "def make_generator_model():\n",
    "    latent_input0 = layers.Input(shape=(LATENT_SIZE,))\n",
    "    # latent_input1 = layers.Input(shape=(LATENT_SIZE,))\n",
    "    # latent_input2 = layers.Input(shape=(LATENT_SIZE,))\n",
    "\n",
    "    # Mapping Network\n",
    "    mnfc_input = layers.Input(shape=(LATENT_SIZE,))\n",
    "    mnfc = layers.Dense(LATENT_SIZE, activation=\"relu\")(mnfc_input)\n",
    "    for i in range(7):\n",
    "        mnfc = layers.Dense(LATENT_SIZE, activation=\"relu\")(mnfc)\n",
    "    mapping_network = tf.keras.Model(inputs=[mnfc_input], outputs=[mnfc])\n",
    "\n",
    "    # w0 = mapping_network(latent_input0)\n",
    "    # w1 = mapping_network(latent_input1)\n",
    "    # w2 = mapping_network(latent_input2)\n",
    "\n",
    "    # Noises\n",
    "    # noise_input0 = layers.Input(shape=(7, 7, 1))\n",
    "    # n0 = layers.Dense(32, activation=\"relu\")(noise_input0)\n",
    "    # noise_input1 = layers.Input(shape=(14, 14, 1))\n",
    "    # n1 = layers.Dense(32, activation=\"relu\")(noise_input1)\n",
    "    # noise_input2 = layers.Input(shape=(28, 28, 1))\n",
    "    # n2 = layers.Dense(32, activation=\"relu\")(noise_input2)\n",
    "\n",
    "    # synthesis Network\n",
    "    # 7x7\n",
    "    l1_1 = layers.Dense(7*7*32, activation=\"relu\")(latent_input0)\n",
    "    l1_2 = layers.Reshape((7, 7, 32))(l1_1)\n",
    "    # l1_3 = layers.Add()([l1_2, n0])\n",
    "    # AdaIN\n",
    "    def AdaIN(x, y):\n",
    "        x_mean, x_std = k.mean(x), k.std(x)\n",
    "        y_mean, y_std = k.mean(y), k.std(y)\n",
    "        return tf.multiply(y_std, tf.divide(x - x_mean, x_std)) + y_mean\n",
    "    # l1_4 = AdaIN(l1_3, w0)\n",
    "    l1_5 = layers.Conv2D(32, (3, 3), padding=\"same\")(l1_2)\n",
    "    # l1_6 = layers.Add()([l1_5, n0])\n",
    "    # l1_7 = AdaIN(l1_6, w0)\n",
    "\n",
    "    # 14x14\n",
    "    l2_1 = layers.UpSampling2D()(l1_5)\n",
    "    l2_2 = layers.Conv2D(32, (3, 3), padding=\"same\")(l2_1)\n",
    "    # l2_3 = layers.Add()([l2_2, n1])\n",
    "    # l2_4 = AdaIN(l2_3, w1)\n",
    "    l2_5 = layers.Conv2D(32, (3, 3), padding=\"same\")(l2_2)\n",
    "    # l2_6 = layers.Add()([l2_5, n1])\n",
    "    # l2_7 = AdaIN(l2_6, w1)\n",
    "\n",
    "    # 28x28\n",
    "    l3_1 = layers.UpSampling2D()(l2_5)\n",
    "    l3_2 = layers.Conv2D(32, (3, 3), padding=\"same\")(l3_1)\n",
    "    # l3_3 = layers.Add()([l3_2, n2])\n",
    "    # l3_4 = AdaIN(l3_3, w2)\n",
    "    l3_5 = layers.Conv2D(32, (3, 3), padding=\"same\")(l3_2)\n",
    "    # l3_6 = layers.Add()([l3_5, n2])\n",
    "    # l3_7 = AdaIN(l3_6, w2)\n",
    "\n",
    "    l6 = layers.Dense(1)(l3_2)\n",
    "    output_layer = layers.Activation(activation=\"tanh\")(l6)\n",
    "    model = tf.keras.Model(inputs=[latent_input0],\n",
    "                           outputs=[output_layer])\n",
    "    return model\n",
    "\n",
    "def make_generator_model():\n",
    "    # AdaIN\n",
    "    def AdaIN(x, ys, yb):\n",
    "        x_mean, x_std = k.mean(x), k.std(x)\n",
    "        ys = tf.reshape(ys, (-1, 1, 1, tf.shape(ys)[-1]))\n",
    "        yb = tf.reshape(yb, (-1, 1, 1, tf.shape(yb)[-1]))\n",
    "        return tf.add(tf.multiply(ys, tf.divide(x - x_mean, x_std+1e-7)), yb)\n",
    "\n",
    "    input_layer0 = layers.Input((LATENT_SIZE,))\n",
    "    input_layer1 = layers.Input((LATENT_SIZE,))\n",
    "    input_layer2 = layers.Input((LATENT_SIZE,))\n",
    "\n",
    "    # Mapping Network\n",
    "    mnfc_input = layers.Input(shape=(LATENT_SIZE,))\n",
    "    mnfc = layers.Dense(LATENT_SIZE, activation=\"relu\")(mnfc_input)\n",
    "    for i in range(7):\n",
    "        mnfc = layers.Dense(LATENT_SIZE, activation=\"relu\")(mnfc)\n",
    "    mapping_network = tf.keras.Model(inputs=[mnfc_input], outputs=[mnfc])\n",
    "\n",
    "    w0 = mapping_network(input_layer0)\n",
    "    w1 = mapping_network(input_layer1)\n",
    "    w2 = mapping_network(input_layer2)\n",
    "\n",
    "    # Synthesis Network\n",
    "    # 7x7\n",
    "    x = layers.Dense(7*7*32)(input_layer2)\n",
    "    x = layers.Reshape((7, 7, 32))(x)\n",
    "    x = layers.Conv2D(32, (3, 3), padding=\"same\")(x)\n",
    "    scale_dense = layers.Dense(32)(w0)\n",
    "    bias_dense = layers.Dense(32)(w0)\n",
    "    x = AdaIN(x, scale_dense, bias_dense)\n",
    "\n",
    "    # 14x14\n",
    "    x = layers.UpSampling2D()(x)\n",
    "    x = layers.Conv2D(32, (3, 3), padding=\"same\")(x)\n",
    "    scale_dense = layers.Dense(32)(w1)\n",
    "    bias_dense = layers.Dense(32)(w1)\n",
    "    x = AdaIN(x, scale_dense, bias_dense)\n",
    "\n",
    "    # 28x28\n",
    "    x = layers.UpSampling2D()(x)\n",
    "    x = layers.Conv2D(32, (3, 3), padding=\"same\")(x)\n",
    "    scale_dense = layers.Dense(32)(w2)\n",
    "    bias_dense = layers.Dense(32)(w2)\n",
    "    x = AdaIN(x, scale_dense, bias_dense)\n",
    "\n",
    "    x = layers.Dense(1, activation=\"tanh\")(x)\n",
    "    model = tf.keras.Model(inputs=[input_layer0, input_layer1, input_layer2],\n",
    "                           outputs=[x])\n",
    "\n",
    "\n",
    "    return model\n",
    "\n",
    "model = make_generator_model()\n",
    "model.summary()"
   ],
   "metadata": {
    "collapsed": false,
    "pycharm": {
     "name": "#%%\n"
    }
   }
  },
  {
   "cell_type": "code",
   "execution_count": 746,
   "outputs": [
    {
     "data": {
      "text/plain": "<Figure size 432x288 with 1 Axes>",
      "image/png": "[encoded data removed]"
     },
     "metadata": {
      "needs_background": "light"
     },
     "output_type": "display_data"
    }
   ],
   "source": [
    "# synthesis Network\n",
    "# 7x7\n",
    "x = layers.Dense(7*7*LATENT_SIZE, activation=\"relu\")(tf.random.normal((1, LATENT_SIZE)))\n",
    "x = layers.Reshape((7, 7, LATENT_SIZE))(x)\n",
    "x = layers.Conv2D(32, (3, 3), padding=\"same\", kernel_initializer=tf.keras.initializers.GlorotNormal())(x)\n",
    "\n",
    "# 14x14\n",
    "x = layers.UpSampling2D()(x)\n",
    "x = layers.Conv2D(32, (3, 3), padding=\"same\", kernel_initializer=tf.keras.initializers.GlorotNormal())(x)\n",
    "\n",
    "# 28x28\n",
    "x = layers.UpSampling2D()(x)\n",
    "x = layers.Conv2D(32, (3, 3), padding=\"same\", kernel_initializer=tf.keras.initializers.GlorotNormal())(x)\n",
    "\n",
    "x = layers.Dense(1, activation=\"tanh\")(x)\n",
    "plt.imshow(x[0], cmap=\"gray\")\n",
    "plt.show()"
   ],
   "metadata": {
    "collapsed": false,
    "pycharm": {
     "name": "#%%\n"
    }
   }
  },
  {
   "cell_type": "code",
   "execution_count": 747,
   "outputs": [],
   "source": [
    "def make_discriminator_model():\n",
    "    model = tf.keras.models.Sequential()\n",
    "\n",
    "    model.add(layers.Conv2D(32, (3, 3), strides=(2, 2), padding='same', input_shape=[IMAGE_SIZE, IMAGE_SIZE, 1]))\n",
    "    model.add(layers.LeakyReLU())\n",
    "    model.add(layers.Dropout(0.2))\n",
    "\n",
    "    model.add(layers.Conv2D(32, (3, 3), strides=(2, 2), padding='same'))\n",
    "    model.add(layers.LeakyReLU())\n",
    "    model.add(layers.Dropout(0.3))\n",
    "\n",
    "    model.add(layers.Conv2D(32, (3, 3), strides=(2, 2), padding='same'))\n",
    "    model.add(layers.LeakyReLU())\n",
    "    model.add(layers.Dropout(0.4))\n",
    "\n",
    "    model.add(layers.Conv2D(32, (3, 3), strides=(2, 2), padding='same'))\n",
    "    model.add(layers.LeakyReLU())\n",
    "    model.add(layers.Dropout(0.5))\n",
    "\n",
    "    model.add(layers.Flatten())\n",
    "    model.add(layers.Dense(1, activation=\"sigmoid\"))\n",
    "    return model"
   ],
   "metadata": {
    "collapsed": false,
    "pycharm": {
     "name": "#%%\n"
    }
   }
  },
  {
   "cell_type": "code",
   "execution_count": 748,
   "outputs": [],
   "source": [
    "generator = make_generator_model()\n",
    "discriminator = make_discriminator_model()"
   ],
   "metadata": {
    "collapsed": false,
    "pycharm": {
     "name": "#%%\n"
    }
   }
  },
  {
   "cell_type": "code",
   "execution_count": 749,
   "outputs": [
    {
     "data": {
      "text/plain": "<tf.Tensor: shape=(1, 1), dtype=float32, numpy=array([[0.49750742]], dtype=float32)>"
     },
     "execution_count": 749,
     "metadata": {},
     "output_type": "execute_result"
    }
   ],
   "source": [
    "discriminator(np.reshape(x[0], (1, 28, 28, 1)), training=False)"
   ],
   "metadata": {
    "collapsed": false,
    "pycharm": {
     "name": "#%%\n"
    }
   }
  },
  {
   "cell_type": "markdown",
   "source": [
    "## Define Losses"
   ],
   "metadata": {
    "collapsed": false
   }
  },
  {
   "cell_type": "code",
   "execution_count": 750,
   "outputs": [],
   "source": [
    "cross_entropy = tf.keras.losses.BinaryCrossentropy()\n",
    "\n",
    "def discriminator_loss(real_output, fake_output):\n",
    "    realLoss = cross_entropy(tf.ones_like(real_output), real_output)\n",
    "    fakeLoss = cross_entropy(tf.zeros_like(fake_output), fake_output)\n",
    "    return realLoss + fakeLoss\n",
    "\n",
    "def generator_loss(fakeOutput):\n",
    "    return cross_entropy(tf.ones_like(fakeOutput), fakeOutput)"
   ],
   "metadata": {
    "collapsed": false,
    "pycharm": {
     "name": "#%%\n"
    }
   }
  },
  {
   "cell_type": "markdown",
   "source": [
    "## Define Optimizers"
   ],
   "metadata": {
    "collapsed": false
   }
  },
  {
   "cell_type": "code",
   "execution_count": 751,
   "outputs": [],
   "source": [
    "generatorOptimizer = tf.keras.optimizers.Adam(2e-4, beta_1=0.5)\n",
    "discriminatorOptimizer = tf.keras.optimizers.Adam(2e-4, beta_1=0.5)"
   ],
   "metadata": {
    "collapsed": false,
    "pycharm": {
     "name": "#%%\n"
    }
   }
  },
  {
   "cell_type": "code",
   "execution_count": 752,
   "outputs": [],
   "source": [
    "NUM_SAMPLES_TO_GENERATE = 8\n",
    "NUM_CHECKPOINT = 10\n",
    "\n",
    "\n",
    "# You will reuse this seed overtime (so it's easier)\n",
    "# to visualize progress in the animated GIF)\n",
    "seed = [tf.random.normal([NUM_SAMPLES_TO_GENERATE, LATENT_SIZE]) for i in range(3)]"
   ],
   "metadata": {
    "collapsed": false,
    "pycharm": {
     "name": "#%%\n"
    }
   }
  },
  {
   "cell_type": "code",
   "execution_count": 753,
   "outputs": [],
   "source": [
    "checkpoint_dir = \"./checkpoints2\"\n",
    "\n",
    "checkpoint_prefix = os.path.join(checkpoint_dir, \"ckpt\")\n",
    "\n",
    "checkpoint = tf.train.Checkpoint(\n",
    "    generator_optimizer=generatorOptimizer,\n",
    "    discriminator_optimizer=discriminatorOptimizer,\n",
    "    generator=generator,\n",
    "    discriminator=discriminator,\n",
    ")"
   ],
   "metadata": {
    "collapsed": false,
    "pycharm": {
     "name": "#%%\n"
    }
   }
  },
  {
   "cell_type": "markdown",
   "source": [
    "## Define Training Steps"
   ],
   "metadata": {
    "collapsed": false
   }
  },
  {
   "cell_type": "code",
   "execution_count": 754,
   "outputs": [],
   "source": [
    "@tf.function\n",
    "def train_step(images):\n",
    "    latent = [tf.random.normal((BATCH_SIZE, LATENT_SIZE)) for i in range(3)]\n",
    "\n",
    "    with tf.GradientTape() as gen_tape, tf.GradientTape() as disc_tape:\n",
    "        generated_images = generator(latent, training=True)\n",
    "        real_output = discriminator(images, training=True)\n",
    "        fake_output = discriminator(generated_images, training=True)\n",
    "\n",
    "        genLoss = generator_loss(fake_output)\n",
    "        discLoss = discriminator_loss(real_output, fake_output)\n",
    "\n",
    "    gradients_of_generator = gen_tape.gradient(genLoss, generator.trainable_variables)\n",
    "    gradients_of_discriminator = disc_tape.gradient(discLoss, discriminator.trainable_variables)\n",
    "\n",
    "    generatorOptimizer.apply_gradients(zip(gradients_of_generator, generator.trainable_variables))\n",
    "    discriminatorOptimizer.apply_gradients(zip(gradients_of_discriminator, discriminator.trainable_variables))\n",
    "\n",
    "    return genLoss, discLoss\n"
   ],
   "metadata": {
    "collapsed": false,
    "pycharm": {
     "name": "#%%\n"
    }
   }
  },
  {
   "cell_type": "code",
   "execution_count": 755,
   "outputs": [],
   "source": [
    "def generate_and_save_images(model, epoch, test_input, history):\n",
    "    # Notice `training` is set to False.\n",
    "    # This is so all layers run in inference mode (batchnorm).\n",
    "    predictions = model(test_input, training=False)\n",
    "\n",
    "    fig = plt.figure(figsize=(8, 4), constrained_layout=True)\n",
    "\n",
    "    for i in range(predictions.shape[0]):\n",
    "        plt.subplot(2, 4, i + 1)\n",
    "        plt.imshow((predictions[i].numpy()), cmap=\"gray\")\n",
    "        plt.axis(\"off\")\n",
    "\n",
    "    plt.savefig(\"./img2/image_at_epoch_{:04d}.png\".format(epoch))\n",
    "    plt.show()\n",
    "    plt.plot(history['gen_loss'])\n",
    "    plt.plot(history['disc_loss'])\n",
    "    plt.legend([\"Generator Loss\", \"Discriminator Loss\"])\n",
    "    plt.show()"
   ],
   "metadata": {
    "collapsed": false,
    "pycharm": {
     "name": "#%%\n"
    }
   }
  },
  {
   "cell_type": "code",
   "execution_count": 756,
   "outputs": [],
   "source": [
    "def train(dataset, epochs):\n",
    "    history = {\n",
    "        'gen_loss': [],\n",
    "        'disc_loss': []\n",
    "    }\n",
    "\n",
    "    generate_and_save_images(generator, 0, seed, history)\n",
    "\n",
    "    for epoch in range(epochs):\n",
    "        start = time.time()\n",
    "\n",
    "        gen_loss = []\n",
    "        disc_loss = []\n",
    "        for image_batch in tqdm(dataset):\n",
    "            h = train_step(image_batch)\n",
    "            gen_loss.append(h[0])\n",
    "            disc_loss.append(h[1])\n",
    "        history['gen_loss'].append(tf.math.reduce_mean(gen_loss))\n",
    "        history['disc_loss'].append(tf.math.reduce_mean(disc_loss))\n",
    "        print(f\"EPOCH: {epoch}\\ngen_loss: {history['gen_loss'][-1]}\\ndisc_loss: {history['disc_loss'][-1]}\")\n",
    "        # Produce images for the GIF as you go\n",
    "        clear_output(wait=True)\n",
    "        generate_and_save_images(generator, epoch + 1, seed, history)\n",
    "\n",
    "        # Save the model every 15 epochs\n",
    "        if (epoch + 1) % NUM_CHECKPOINT == 0:\n",
    "            checkpoint.save(file_prefix=checkpoint_prefix)\n",
    "\n",
    "        print(\"Time for epoch {} is {} sec\".format(epoch + 1, time.time() - start))\n",
    "\n",
    "    # Generate after the final epoch\n",
    "    clear_output(wait=True)\n",
    "    generate_and_save_images(generator, epochs, seed, history)\n",
    "    return history\n"
   ],
   "metadata": {
    "collapsed": false,
    "pycharm": {
     "name": "#%%\n"
    }
   }
  },
  {
   "cell_type": "markdown",
   "source": [
    "## Train Model"
   ],
   "metadata": {
    "collapsed": false
   }
  },
  {
   "cell_type": "code",
   "execution_count": 757,
   "outputs": [
    {
     "data": {
      "text/plain": "<Figure size 576x288 with 64 Axes>",
      "image/png": "[encoded data removed]"
     },
     "metadata": {
      "needs_background": "light"
     },
     "output_type": "display_data"
    },
    {
     "data": {
      "text/plain": "<Figure size 432x288 with 1 Axes>",
      "image/png": "[encoded data removed]"
     },
     "metadata": {
      "needs_background": "light"
     },
     "output_type": "display_data"
    },
    {
     "name": "stderr",
     "output_type": "stream",
     "text": [
      "  2%|▏         | 4/235 [00:00<00:08, 28.78it/s]"
     ]
    },
    {
     "name": "stdout",
     "output_type": "stream",
     "text": [
      "Time for epoch 1 is 15.54800009727478 sec\n"
     ]
    },
    {
     "name": "stderr",
     "output_type": "stream",
     "text": [
      " 31%|███       | 73/235 [00:02<00:06, 24.36it/s]\n"
     ]
    },
    {
     "ename": "KeyboardInterrupt",
     "evalue": "",
     "output_type": "error",
     "traceback": [
      "\u001B[1;31m---------------------------------------------------------------------------\u001B[0m",
      "\u001B[1;31mKeyboardInterrupt\u001B[0m                         Traceback (most recent call last)",
      "\u001B[1;32m<ipython-input-757-ab454faf9439>\u001B[0m in \u001B[0;36m<module>\u001B[1;34m\u001B[0m\n\u001B[0;32m      1\u001B[0m \u001B[0mprint\u001B[0m\u001B[1;33m(\u001B[0m\u001B[1;34m\"Starting\"\u001B[0m\u001B[1;33m)\u001B[0m\u001B[1;33m\u001B[0m\u001B[1;33m\u001B[0m\u001B[0m\n\u001B[1;32m----> 2\u001B[1;33m \u001B[0mhistory\u001B[0m \u001B[1;33m=\u001B[0m \u001B[0mtrain\u001B[0m\u001B[1;33m(\u001B[0m\u001B[0mtrain_ds\u001B[0m\u001B[1;33m,\u001B[0m \u001B[0mEPOCHS\u001B[0m\u001B[1;33m)\u001B[0m\u001B[1;33m\u001B[0m\u001B[1;33m\u001B[0m\u001B[0m\n\u001B[0m\u001B[0;32m      3\u001B[0m \u001B[0mprint\u001B[0m\u001B[1;33m(\u001B[0m\u001B[1;34m\"Finished\"\u001B[0m\u001B[1;33m)\u001B[0m\u001B[1;33m\u001B[0m\u001B[1;33m\u001B[0m\u001B[0m\n\u001B[0;32m      4\u001B[0m \u001B[1;33m\u001B[0m\u001B[0m\n",
      "\u001B[1;32m<ipython-input-756-aaa4ecb3def0>\u001B[0m in \u001B[0;36mtrain\u001B[1;34m(dataset, epochs)\u001B[0m\n\u001B[0;32m     12\u001B[0m         \u001B[0mgen_loss\u001B[0m \u001B[1;33m=\u001B[0m \u001B[1;33m[\u001B[0m\u001B[1;33m]\u001B[0m\u001B[1;33m\u001B[0m\u001B[1;33m\u001B[0m\u001B[0m\n\u001B[0;32m     13\u001B[0m         \u001B[0mdisc_loss\u001B[0m \u001B[1;33m=\u001B[0m \u001B[1;33m[\u001B[0m\u001B[1;33m]\u001B[0m\u001B[1;33m\u001B[0m\u001B[1;33m\u001B[0m\u001B[0m\n\u001B[1;32m---> 14\u001B[1;33m         \u001B[1;32mfor\u001B[0m \u001B[0mimage_batch\u001B[0m \u001B[1;32min\u001B[0m \u001B[0mtqdm\u001B[0m\u001B[1;33m(\u001B[0m\u001B[0mdataset\u001B[0m\u001B[1;33m)\u001B[0m\u001B[1;33m:\u001B[0m\u001B[1;33m\u001B[0m\u001B[1;33m\u001B[0m\u001B[0m\n\u001B[0m\u001B[0;32m     15\u001B[0m             \u001B[0mh\u001B[0m \u001B[1;33m=\u001B[0m \u001B[0mtrain_step\u001B[0m\u001B[1;33m(\u001B[0m\u001B[0mimage_batch\u001B[0m\u001B[1;33m)\u001B[0m\u001B[1;33m\u001B[0m\u001B[1;33m\u001B[0m\u001B[0m\n\u001B[0;32m     16\u001B[0m             \u001B[0mgen_loss\u001B[0m\u001B[1;33m.\u001B[0m\u001B[0mappend\u001B[0m\u001B[1;33m(\u001B[0m\u001B[0mh\u001B[0m\u001B[1;33m[\u001B[0m\u001B[1;36m0\u001B[0m\u001B[1;33m]\u001B[0m\u001B[1;33m)\u001B[0m\u001B[1;33m\u001B[0m\u001B[1;33m\u001B[0m\u001B[0m\n",
      "\u001B[1;32mc:\\python39\\lib\\site-packages\\tqdm\\std.py\u001B[0m in \u001B[0;36m__iter__\u001B[1;34m(self)\u001B[0m\n\u001B[0;32m   1165\u001B[0m \u001B[1;33m\u001B[0m\u001B[0m\n\u001B[0;32m   1166\u001B[0m         \u001B[1;32mtry\u001B[0m\u001B[1;33m:\u001B[0m\u001B[1;33m\u001B[0m\u001B[1;33m\u001B[0m\u001B[0m\n\u001B[1;32m-> 1167\u001B[1;33m             \u001B[1;32mfor\u001B[0m \u001B[0mobj\u001B[0m \u001B[1;32min\u001B[0m \u001B[0miterable\u001B[0m\u001B[1;33m:\u001B[0m\u001B[1;33m\u001B[0m\u001B[1;33m\u001B[0m\u001B[0m\n\u001B[0m\u001B[0;32m   1168\u001B[0m                 \u001B[1;32myield\u001B[0m \u001B[0mobj\u001B[0m\u001B[1;33m\u001B[0m\u001B[1;33m\u001B[0m\u001B[0m\n\u001B[0;32m   1169\u001B[0m                 \u001B[1;31m# Update and possibly print the progressbar.\u001B[0m\u001B[1;33m\u001B[0m\u001B[1;33m\u001B[0m\u001B[1;33m\u001B[0m\u001B[0m\n",
      "\u001B[1;32mc:\\python39\\lib\\site-packages\\tensorflow\\python\\data\\ops\\iterator_ops.py\u001B[0m in \u001B[0;36m__next__\u001B[1;34m(self)\u001B[0m\n\u001B[0;32m    759\u001B[0m   \u001B[1;32mdef\u001B[0m \u001B[0m__next__\u001B[0m\u001B[1;33m(\u001B[0m\u001B[0mself\u001B[0m\u001B[1;33m)\u001B[0m\u001B[1;33m:\u001B[0m\u001B[1;33m\u001B[0m\u001B[1;33m\u001B[0m\u001B[0m\n\u001B[0;32m    760\u001B[0m     \u001B[1;32mtry\u001B[0m\u001B[1;33m:\u001B[0m\u001B[1;33m\u001B[0m\u001B[1;33m\u001B[0m\u001B[0m\n\u001B[1;32m--> 761\u001B[1;33m       \u001B[1;32mreturn\u001B[0m \u001B[0mself\u001B[0m\u001B[1;33m.\u001B[0m\u001B[0m_next_internal\u001B[0m\u001B[1;33m(\u001B[0m\u001B[1;33m)\u001B[0m\u001B[1;33m\u001B[0m\u001B[1;33m\u001B[0m\u001B[0m\n\u001B[0m\u001B[0;32m    762\u001B[0m     \u001B[1;32mexcept\u001B[0m \u001B[0merrors\u001B[0m\u001B[1;33m.\u001B[0m\u001B[0mOutOfRangeError\u001B[0m\u001B[1;33m:\u001B[0m\u001B[1;33m\u001B[0m\u001B[1;33m\u001B[0m\u001B[0m\n\u001B[0;32m    763\u001B[0m       \u001B[1;32mraise\u001B[0m \u001B[0mStopIteration\u001B[0m\u001B[1;33m\u001B[0m\u001B[1;33m\u001B[0m\u001B[0m\n",
      "\u001B[1;32mc:\\python39\\lib\\site-packages\\tensorflow\\python\\data\\ops\\iterator_ops.py\u001B[0m in \u001B[0;36m_next_internal\u001B[1;34m(self)\u001B[0m\n\u001B[0;32m    741\u001B[0m     \u001B[1;31m# TODO(b/77291417): This runs in sync mode as iterators use an error status\u001B[0m\u001B[1;33m\u001B[0m\u001B[1;33m\u001B[0m\u001B[1;33m\u001B[0m\u001B[0m\n\u001B[0;32m    742\u001B[0m     \u001B[1;31m# to communicate that there is no more data to iterate over.\u001B[0m\u001B[1;33m\u001B[0m\u001B[1;33m\u001B[0m\u001B[1;33m\u001B[0m\u001B[0m\n\u001B[1;32m--> 743\u001B[1;33m     \u001B[1;32mwith\u001B[0m \u001B[0mcontext\u001B[0m\u001B[1;33m.\u001B[0m\u001B[0mexecution_mode\u001B[0m\u001B[1;33m(\u001B[0m\u001B[0mcontext\u001B[0m\u001B[1;33m.\u001B[0m\u001B[0mSYNC\u001B[0m\u001B[1;33m)\u001B[0m\u001B[1;33m:\u001B[0m\u001B[1;33m\u001B[0m\u001B[1;33m\u001B[0m\u001B[0m\n\u001B[0m\u001B[0;32m    744\u001B[0m       ret = gen_dataset_ops.iterator_get_next(\n\u001B[0;32m    745\u001B[0m           \u001B[0mself\u001B[0m\u001B[1;33m.\u001B[0m\u001B[0m_iterator_resource\u001B[0m\u001B[1;33m,\u001B[0m\u001B[1;33m\u001B[0m\u001B[1;33m\u001B[0m\u001B[0m\n",
      "\u001B[1;32mc:\\python39\\lib\\contextlib.py\u001B[0m in \u001B[0;36m__enter__\u001B[1;34m(self)\u001B[0m\n\u001B[0;32m    115\u001B[0m         \u001B[1;32mdel\u001B[0m \u001B[0mself\u001B[0m\u001B[1;33m.\u001B[0m\u001B[0margs\u001B[0m\u001B[1;33m,\u001B[0m \u001B[0mself\u001B[0m\u001B[1;33m.\u001B[0m\u001B[0mkwds\u001B[0m\u001B[1;33m,\u001B[0m \u001B[0mself\u001B[0m\u001B[1;33m.\u001B[0m\u001B[0mfunc\u001B[0m\u001B[1;33m\u001B[0m\u001B[1;33m\u001B[0m\u001B[0m\n\u001B[0;32m    116\u001B[0m         \u001B[1;32mtry\u001B[0m\u001B[1;33m:\u001B[0m\u001B[1;33m\u001B[0m\u001B[1;33m\u001B[0m\u001B[0m\n\u001B[1;32m--> 117\u001B[1;33m             \u001B[1;32mreturn\u001B[0m \u001B[0mnext\u001B[0m\u001B[1;33m(\u001B[0m\u001B[0mself\u001B[0m\u001B[1;33m.\u001B[0m\u001B[0mgen\u001B[0m\u001B[1;33m)\u001B[0m\u001B[1;33m\u001B[0m\u001B[1;33m\u001B[0m\u001B[0m\n\u001B[0m\u001B[0;32m    118\u001B[0m         \u001B[1;32mexcept\u001B[0m \u001B[0mStopIteration\u001B[0m\u001B[1;33m:\u001B[0m\u001B[1;33m\u001B[0m\u001B[1;33m\u001B[0m\u001B[0m\n\u001B[0;32m    119\u001B[0m             \u001B[1;32mraise\u001B[0m \u001B[0mRuntimeError\u001B[0m\u001B[1;33m(\u001B[0m\u001B[1;34m\"generator didn't yield\"\u001B[0m\u001B[1;33m)\u001B[0m \u001B[1;32mfrom\u001B[0m \u001B[1;32mNone\u001B[0m\u001B[1;33m\u001B[0m\u001B[1;33m\u001B[0m\u001B[0m\n",
      "\u001B[1;32mc:\\python39\\lib\\site-packages\\tensorflow\\python\\eager\\context.py\u001B[0m in \u001B[0;36mexecution_mode\u001B[1;34m(mode)\u001B[0m\n\u001B[0;32m   2188\u001B[0m     \u001B[0mexecutor_old\u001B[0m \u001B[1;33m=\u001B[0m \u001B[0mctx\u001B[0m\u001B[1;33m.\u001B[0m\u001B[0mexecutor\u001B[0m\u001B[1;33m\u001B[0m\u001B[1;33m\u001B[0m\u001B[0m\n\u001B[0;32m   2189\u001B[0m     \u001B[1;32mtry\u001B[0m\u001B[1;33m:\u001B[0m\u001B[1;33m\u001B[0m\u001B[1;33m\u001B[0m\u001B[0m\n\u001B[1;32m-> 2190\u001B[1;33m       \u001B[0mexecutor_old\u001B[0m\u001B[1;33m.\u001B[0m\u001B[0mwait\u001B[0m\u001B[1;33m(\u001B[0m\u001B[1;33m)\u001B[0m\u001B[1;33m\u001B[0m\u001B[1;33m\u001B[0m\u001B[0m\n\u001B[0m\u001B[0;32m   2191\u001B[0m       \u001B[0mctx\u001B[0m\u001B[1;33m.\u001B[0m\u001B[0mexecutor\u001B[0m \u001B[1;33m=\u001B[0m \u001B[0mexecutor_new\u001B[0m\u001B[1;33m\u001B[0m\u001B[1;33m\u001B[0m\u001B[0m\n\u001B[0;32m   2192\u001B[0m       \u001B[1;32myield\u001B[0m\u001B[1;33m\u001B[0m\u001B[1;33m\u001B[0m\u001B[0m\n",
      "\u001B[1;32mc:\\python39\\lib\\site-packages\\tensorflow\\python\\eager\\executor.py\u001B[0m in \u001B[0;36mwait\u001B[1;34m(self)\u001B[0m\n\u001B[0;32m     67\u001B[0m   \u001B[1;32mdef\u001B[0m \u001B[0mwait\u001B[0m\u001B[1;33m(\u001B[0m\u001B[0mself\u001B[0m\u001B[1;33m)\u001B[0m\u001B[1;33m:\u001B[0m\u001B[1;33m\u001B[0m\u001B[1;33m\u001B[0m\u001B[0m\n\u001B[0;32m     68\u001B[0m     \u001B[1;34m\"\"\"Waits for ops dispatched in this executor to finish.\"\"\"\u001B[0m\u001B[1;33m\u001B[0m\u001B[1;33m\u001B[0m\u001B[0m\n\u001B[1;32m---> 69\u001B[1;33m     \u001B[0mpywrap_tfe\u001B[0m\u001B[1;33m.\u001B[0m\u001B[0mTFE_ExecutorWaitForAllPendingNodes\u001B[0m\u001B[1;33m(\u001B[0m\u001B[0mself\u001B[0m\u001B[1;33m.\u001B[0m\u001B[0m_handle\u001B[0m\u001B[1;33m)\u001B[0m\u001B[1;33m\u001B[0m\u001B[1;33m\u001B[0m\u001B[0m\n\u001B[0m\u001B[0;32m     70\u001B[0m \u001B[1;33m\u001B[0m\u001B[0m\n\u001B[0;32m     71\u001B[0m   \u001B[1;32mdef\u001B[0m \u001B[0mclear_error\u001B[0m\u001B[1;33m(\u001B[0m\u001B[0mself\u001B[0m\u001B[1;33m)\u001B[0m\u001B[1;33m:\u001B[0m\u001B[1;33m\u001B[0m\u001B[1;33m\u001B[0m\u001B[0m\n",
      "\u001B[1;31mKeyboardInterrupt\u001B[0m: "
     ]
    }
   ],
   "source": [
    "print(\"Starting\")\n",
    "history = train(train_ds, EPOCHS)\n",
    "print(\"Finished\")"
   ],
   "metadata": {
    "collapsed": false,
    "pycharm": {
     "name": "#%%\n"
    }
   }
  },
  {
   "cell_type": "markdown",
   "source": [
    "## Evaluate model"
   ],
   "metadata": {
    "collapsed": false
   }
  },
  {
   "cell_type": "code",
   "execution_count": null,
   "outputs": [],
   "source": [
    "\n"
   ],
   "metadata": {
    "collapsed": false,
    "pycharm": {
     "name": "#%%\n"
    }
   }
  }
 ],
 "metadata": {
  "kernelspec": {
   "display_name": "Python 3",
   "language": "python",
   "name": "python3"
  },
  "language_info": {
   "codemirror_mode": {
    "name": "ipython",
    "version": 2
   },
   "file_extension": ".py",
   "mimetype": "text/x-python",
   "name": "python",
   "nbconvert_exporter": "python",
   "pygments_lexer": "ipython2",
   "version": "2.7.6"
  }
 },
 "nbformat": 4,
 "nbformat_minor": 0
}