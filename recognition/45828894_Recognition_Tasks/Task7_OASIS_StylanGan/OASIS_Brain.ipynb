{
 "cells": [
  {
   "cell_type": "markdown",
   "id": "f8762308",
   "metadata": {},
   "source": [
    "# OASIS Brain Stylegan"
   ]
  },
  {
   "cell_type": "markdown",
   "id": "37140cc0",
   "metadata": {},
   "source": [
    "## Import Packages"
   ]
  },
  {
   "cell_type": "code",
   "execution_count": 1,
   "id": "ab17d8c8",
   "metadata": {},
   "outputs": [
    {
     "name": "stderr",
     "output_type": "stream",
     "text": [
      "WARNING:root:Limited tf.compat.v2.summary API due to missing TensorBoard installation.\n",
      "WARNING:root:Limited tf.compat.v2.summary API due to missing TensorBoard installation.\n",
      "WARNING:root:Limited tf.compat.v2.summary API due to missing TensorBoard installation.\n",
      "WARNING:root:Limited tf.summary API due to missing TensorBoard installation.\n"
     ]
    },
    {
     "name": "stdout",
     "output_type": "stream",
     "text": [
      "2.5.0\n",
      "[PhysicalDevice(name='/physical_device:GPU:0', device_type='GPU')]\n",
      "Import Complete\n"
     ]
    }
   ],
   "source": [
    "import os\n",
    "# os.environ[\"CUDA_VISIBLE_DEVICES\"]=\"1\"\n",
    "# tf_device='/gpu:0'\n",
    "import tensorflow as tf\n",
    "print(tf.__version__)\n",
    "print(tf.config.list_physical_devices(\"GPU\"))\n",
    "\n",
    "\n",
    "import matplotlib.pyplot as plt\n",
    "import pandas as pd\n",
    "from random import random, randint\n",
    "from tensorflow.keras import layers\n",
    "from tensorflow.keras import backend as k\n",
    "from IPython import display\n",
    "\n",
    "\n",
    "print(\"Import Complete\")"
   ]
  },
  {
   "cell_type": "markdown",
   "source": [
    "## Set up constant variables"
   ],
   "metadata": {
    "collapsed": false,
    "pycharm": {
     "name": "#%% md\n"
    }
   }
  },
  {
   "cell_type": "code",
   "execution_count": 2,
   "outputs": [],
   "source": [
    "BATCH_SIZE = 128\n",
    "EPOCHS = 30\n",
    "IMAGE_SIZE = (64, 64)\n",
    "h, w = IMAGE_SIZE"
   ],
   "metadata": {
    "collapsed": false,
    "pycharm": {
     "name": "#%%\n"
    }
   }
  },
  {
   "cell_type": "markdown",
   "source": [
    "## Load Data"
   ],
   "metadata": {
    "collapsed": false,
    "pycharm": {
     "name": "#%% md\n"
    }
   }
  },
  {
   "cell_type": "code",
   "execution_count": 3,
   "id": "7fbaa4ef",
   "metadata": {},
   "outputs": [
    {
     "name": "stdout",
     "output_type": "stream",
     "text": [
      "Found 9664 files belonging to 1 classes.\n",
      "Found 544 files belonging to 1 classes.\n",
      "Found 1120 files belonging to 1 classes.\n"
     ]
    }
   ],
   "source": [
    "train_ds = tf.keras.preprocessing.image_dataset_from_directory(\n",
    "    os.getcwd()+'\\\\keras_png_slices_data\\\\keras_png_slices_train',\n",
    "    label_mode=None,\n",
    "    color_mode='grayscale',\n",
    "    batch_size=BATCH_SIZE,\n",
    "    image_size=(h, w),\n",
    "    shuffle=True\n",
    ")\n",
    "\n",
    "test_ds = tf.keras.preprocessing.image_dataset_from_directory(\n",
    "    os.getcwd()+'\\\\keras_png_slices_data\\\\keras_png_slices_test',\n",
    "    label_mode=None,\n",
    "    color_mode='grayscale',\n",
    "    batch_size=BATCH_SIZE,\n",
    "    image_size=(h, w),\n",
    "    shuffle=True\n",
    ")\n",
    "\n",
    "validate_ds = tf.keras.preprocessing.image_dataset_from_directory(\n",
    "    os.getcwd()+'\\\\keras_png_slices_data\\\\keras_png_slices_validate',\n",
    "    label_mode=None,\n",
    "    color_mode='grayscale',\n",
    "    batch_size=BATCH_SIZE,\n",
    "    image_size=(h, w),\n",
    "    shuffle=True\n",
    ")"
   ]
  },
  {
   "cell_type": "markdown",
   "source": [
    "## Preprocess Images\n",
    "### Normalization"
   ],
   "metadata": {
    "collapsed": false,
    "pycharm": {
     "name": "#%% md\n"
    }
   }
  },
  {
   "cell_type": "code",
   "execution_count": 4,
   "outputs": [],
   "source": [
    "def preprocess_image(image):\n",
    "    image = tf.cast(image/255., tf.float32)\n",
    "    return image\n",
    "\n",
    "train_ds = train_ds.map(preprocess_image).prefetch(buffer_size=tf.data.experimental.AUTOTUNE).cache()\n",
    "test_ds = test_ds.map(preprocess_image).prefetch(buffer_size=tf.data.experimental.AUTOTUNE).cache()\n",
    "validate_ds = validate_ds.map(preprocess_image).prefetch(buffer_size=tf.data.experimental.AUTOTUNE).cache()\n"
   ],
   "metadata": {
    "collapsed": false,
    "pycharm": {
     "name": "#%%\n"
    }
   }
  },
  {
   "cell_type": "markdown",
   "source": [
    "## Preview Data"
   ],
   "metadata": {
    "collapsed": false,
    "pycharm": {
     "name": "#%% md\n"
    }
   }
  },
  {
   "cell_type": "code",
   "execution_count": 5,
   "outputs": [
    {
     "data": {
      "text/plain": "<Figure size 432x288 with 1 Axes>",
      "image/png": "[encoded data removed]"
     },
     "metadata": {
      "needs_background": "light"
     },
     "output_type": "display_data"
    },
    {
     "name": "stdout",
     "output_type": "stream",
     "text": [
      "Shape: (64, 64, 1)\n",
      "Data Type: <dtype: 'float32'>\n",
      "Min tf.Tensor(0.0, shape=(), dtype=float32)\n",
      "Max tf.Tensor(0.9107843, shape=(), dtype=float32)\n"
     ]
    }
   ],
   "source": [
    "imageNum = randint(0, 127)\n",
    "previewImage = list(train_ds.take(1))[0][imageNum]\n",
    "plt.imshow(previewImage, cmap='gray')\n",
    "plt.show()\n",
    "\n",
    "print(\"Shape:\", previewImage.shape)\n",
    "print(\"Data Type:\", previewImage.dtype)\n",
    "print(\"Min\", tf.math.reduce_min(previewImage))\n",
    "print(\"Max\", tf.math.reduce_max(previewImage))"
   ],
   "metadata": {
    "collapsed": false,
    "pycharm": {
     "name": "#%%\n"
    }
   }
  },
  {
   "cell_type": "markdown",
   "source": [
    "## Initialize Models"
   ],
   "metadata": {
    "collapsed": false,
    "pycharm": {
     "name": "#%% md\n"
    }
   }
  },
  {
   "cell_type": "code",
   "execution_count": 10,
   "outputs": [
    {
     "name": "stdout",
     "output_type": "stream",
     "text": [
      "Model: \"model_4\"\n",
      "__________________________________________________________________________________________________\n",
      "Layer (type)                    Output Shape         Param #     Connected to                     \n",
      "==================================================================================================\n",
      "input_9 (InputLayer)            [(None, 100)]        0                                            \n",
      "__________________________________________________________________________________________________\n",
      "dense_40 (Dense)                (None, 512)          51712       input_9[0][0]                    \n",
      "__________________________________________________________________________________________________\n",
      "dense_41 (Dense)                (None, 512)          262656      dense_40[0][0]                   \n",
      "__________________________________________________________________________________________________\n",
      "dense_42 (Dense)                (None, 512)          262656      dense_41[0][0]                   \n",
      "__________________________________________________________________________________________________\n",
      "dense_43 (Dense)                (None, 512)          262656      dense_42[0][0]                   \n",
      "__________________________________________________________________________________________________\n",
      "dense_49 (Dense)                (None, 8192)         827392      input_9[0][0]                    \n",
      "__________________________________________________________________________________________________\n",
      "input_10 (InputLayer)           [(None, 4, 4, 1)]    0                                            \n",
      "__________________________________________________________________________________________________\n",
      "dense_44 (Dense)                (None, 512)          262656      dense_43[0][0]                   \n",
      "__________________________________________________________________________________________________\n",
      "reshape_8 (Reshape)             (None, 4, 4, 512)    0           dense_49[0][0]                   \n",
      "__________________________________________________________________________________________________\n",
      "dense_48 (Dense)                (None, 4, 4, 512)    1024        input_10[0][0]                   \n",
      "__________________________________________________________________________________________________\n",
      "dense_45 (Dense)                (None, 512)          262656      dense_44[0][0]                   \n",
      "__________________________________________________________________________________________________\n",
      "add_8 (Add)                     (None, 4, 4, 512)    0           reshape_8[0][0]                  \n",
      "                                                                 dense_48[0][0]                   \n",
      "__________________________________________________________________________________________________\n",
      "dense_46 (Dense)                (None, 512)          262656      dense_45[0][0]                   \n",
      "__________________________________________________________________________________________________\n",
      "tf.math.reduce_mean_48 (TFOpLam ()                   0           add_8[0][0]                      \n",
      "__________________________________________________________________________________________________\n",
      "dense_47 (Dense)                (None, 512)          262656      dense_46[0][0]                   \n",
      "__________________________________________________________________________________________________\n",
      "tf.math.subtract_26 (TFOpLambda (None, 4, 4, 512)    0           add_8[0][0]                      \n",
      "                                                                 tf.math.reduce_mean_48[0][0]     \n",
      "__________________________________________________________________________________________________\n",
      "tf.math.reduce_std_16 (TFOpLamb ()                   0           add_8[0][0]                      \n",
      "__________________________________________________________________________________________________\n",
      "tf.math.reduce_std_17 (TFOpLamb ()                   0           dense_47[0][0]                   \n",
      "__________________________________________________________________________________________________\n",
      "tf.math.truediv_8 (TFOpLambda)  (None, 4, 4, 512)    0           tf.math.subtract_26[0][0]        \n",
      "                                                                 tf.math.reduce_std_16[0][0]      \n",
      "__________________________________________________________________________________________________\n",
      "tf.math.multiply_8 (TFOpLambda) (None, 4, 4, 512)    0           tf.math.reduce_std_17[0][0]      \n",
      "                                                                 tf.math.truediv_8[0][0]          \n",
      "__________________________________________________________________________________________________\n",
      "tf.math.reduce_mean_51 (TFOpLam ()                   0           dense_47[0][0]                   \n",
      "__________________________________________________________________________________________________\n",
      "tf.__operators__.add_8 (TFOpLam (None, 4, 4, 512)    0           tf.math.multiply_8[0][0]         \n",
      "                                                                 tf.math.reduce_mean_51[0][0]     \n",
      "__________________________________________________________________________________________________\n",
      "conv2d_4 (Conv2D)               (None, 1, 1, 512)    2359808     tf.__operators__.add_8[0][0]     \n",
      "__________________________________________________________________________________________________\n",
      "add_9 (Add)                     (None, 4, 4, 512)    0           conv2d_4[0][0]                   \n",
      "                                                                 dense_48[0][0]                   \n",
      "__________________________________________________________________________________________________\n",
      "tf.math.reduce_mean_54 (TFOpLam ()                   0           add_9[0][0]                      \n",
      "__________________________________________________________________________________________________\n",
      "tf.math.subtract_29 (TFOpLambda (None, 4, 4, 512)    0           add_9[0][0]                      \n",
      "                                                                 tf.math.reduce_mean_54[0][0]     \n",
      "__________________________________________________________________________________________________\n",
      "tf.math.reduce_std_18 (TFOpLamb ()                   0           add_9[0][0]                      \n",
      "__________________________________________________________________________________________________\n",
      "tf.math.reduce_std_19 (TFOpLamb ()                   0           dense_47[0][0]                   \n",
      "__________________________________________________________________________________________________\n",
      "tf.math.truediv_9 (TFOpLambda)  (None, 4, 4, 512)    0           tf.math.subtract_29[0][0]        \n",
      "                                                                 tf.math.reduce_std_18[0][0]      \n",
      "__________________________________________________________________________________________________\n",
      "tf.math.multiply_9 (TFOpLambda) (None, 4, 4, 512)    0           tf.math.reduce_std_19[0][0]      \n",
      "                                                                 tf.math.truediv_9[0][0]          \n",
      "__________________________________________________________________________________________________\n",
      "tf.math.reduce_mean_57 (TFOpLam ()                   0           dense_47[0][0]                   \n",
      "__________________________________________________________________________________________________\n",
      "tf.__operators__.add_9 (TFOpLam (None, 4, 4, 512)    0           tf.math.multiply_9[0][0]         \n",
      "                                                                 tf.math.reduce_mean_57[0][0]     \n",
      "==================================================================================================\n",
      "Total params: 5,078,528\n",
      "Trainable params: 5,078,528\n",
      "Non-trainable params: 0\n",
      "__________________________________________________________________________________________________\n"
     ]
    }
   ],
   "source": [
    "def make_generator_model():\n",
    "    latent_input0 = layers.Input(shape=(100,))\n",
    "\n",
    "    # Mapping Network\n",
    "    mnfc = layers.Dense(512, activation=\"relu\")(latent_input0)\n",
    "    for i in range(7):\n",
    "        mnfc = layers.Dense(512, activation=\"relu\")(mnfc)\n",
    "\n",
    "    # Noises\n",
    "    noise_input0 = layers.Input(shape=(4, 4, 1))\n",
    "    n1 = layers.Dense(512, activation=\"relu\")(noise_input0)\n",
    "\n",
    "    # synthesis Network\n",
    "    l1_1 = layers.Dense(4*4*512, activation=\"relu\")(latent_input0)\n",
    "    l1_2 = layers.Reshape((4, 4, 512))(l1_1)\n",
    "    l1_3 = layers.Add()([l1_2, n1])\n",
    "    # AdaIN\n",
    "    def AdaIN(x, y):\n",
    "        x_mean, x_std = k.mean(x), k.std(x)\n",
    "        y_mean, y_std = k.mean(y), k.std(y)\n",
    "        return tf.multiply(y_std, tf.divide(x - x_mean, x_std)) + y_mean\n",
    "    l1_4 = AdaIN(l1_3, mnfc)\n",
    "    l1_5 = layers.Conv2D(512, (3, 3), (2, 2))(l1_4)\n",
    "    l1_6 = layers.Add()([l1_5, n1])\n",
    "    l1_7 = AdaIN(l1_6, mnfc)\n",
    "\n",
    "    model = tf.keras.Model(inputs=[latent_input0, noise_input0], outputs=[l1_7])\n",
    "    return model\n",
    "\n",
    "model = make_generator_model()\n",
    "model.summary()"
   ],
   "metadata": {
    "collapsed": false,
    "pycharm": {
     "name": "#%%\n"
    }
   }
  },
  {
   "cell_type": "code",
   "execution_count": 7,
   "outputs": [],
   "source": [
    "def make_discriminator_model():\n",
    "    model = tf.keras.models.Sequential()\n",
    "\n",
    "    model.add(layers.Conv2D(IMAGE_SIZE, (5, 5), strides=(2, 2), padding='same', input_shape=[IMAGE_SIZE, IMAGE_SIZE, 3]))\n",
    "    model.add(layers.LeakyReLU())\n",
    "    model.add(layers.Dropout(0.2))\n",
    "\n",
    "    model.add(layers.Conv2D(IMAGE_SIZE * 2, (5, 5), strides=(2, 2), padding='same', input_shape=[IMAGE_SIZE, IMAGE_SIZE, 3]))\n",
    "    model.add(layers.LeakyReLU())\n",
    "    model.add(layers.Dropout(0.2))\n",
    "\n",
    "    model.add(layers.Conv2D(IMAGE_SIZE * 4, (5, 5), strides=(2, 2), padding='same', input_shape=[IMAGE_SIZE, IMAGE_SIZE, 3]))\n",
    "    model.add(layers.LeakyReLU())\n",
    "    model.add(layers.Dropout(0.2))\n",
    "\n",
    "    model.add(layers.Conv2D(IMAGE_SIZE * 8, (5, 5), strides=(2, 2), padding='same', input_shape=[IMAGE_SIZE, IMAGE_SIZE, 3]))\n",
    "    model.add(layers.LeakyReLU())\n",
    "    model.add(layers.Dropout(0.2))\n",
    "\n",
    "    model.add(layers.Flatten())\n",
    "    model.add(layers.Dense(1))\n",
    "    return model"
   ],
   "metadata": {
    "collapsed": false,
    "pycharm": {
     "name": "#%%\n"
    }
   }
  },
  {
   "cell_type": "markdown",
   "source": [
    "## Define Losses"
   ],
   "metadata": {
    "collapsed": false,
    "pycharm": {
     "name": "#%% md\n"
    }
   }
  },
  {
   "cell_type": "code",
   "execution_count": 36,
   "outputs": [],
   "source": [
    "cross_entropy = tf.keras.losses.BinaryCrossentropy(from_logits=True)\n",
    "\n",
    "def discriminator_loss(real_output, fake_output):\n",
    "    realLoss = cross_entropy(tf.ones_like(real_output), real_output)\n",
    "    fakeLoss = cross_entropy(tf.zeros_like(fake_output), fake_output)\n",
    "    return realLoss + fakeLoss\n",
    "\n",
    "def generator_loss(fakeOutput):\n",
    "    return cross_entropy(tf.ones_like(fakeOutput), fakeOutput)"
   ],
   "metadata": {
    "collapsed": false,
    "pycharm": {
     "name": "#%%\n"
    }
   }
  },
  {
   "cell_type": "markdown",
   "source": [
    "## Define Optimizers"
   ],
   "metadata": {
    "collapsed": false,
    "pycharm": {
     "name": "#%% md\n"
    }
   }
  },
  {
   "cell_type": "code",
   "execution_count": 37,
   "outputs": [],
   "source": [
    "generatorOptimizer = tf.keras.optimizers.Adam(1e-4)\n",
    "discriminatorOptimizer = tf.keras.optimizers.Adam(1e-4)"
   ],
   "metadata": {
    "collapsed": false,
    "pycharm": {
     "name": "#%%\n"
    }
   }
  },
  {
   "cell_type": "markdown",
   "source": [
    "## Define Training Steps"
   ],
   "metadata": {
    "collapsed": false,
    "pycharm": {
     "name": "#%% md\n"
    }
   }
  },
  {
   "cell_type": "code",
   "execution_count": null,
   "outputs": [],
   "source": [
    "def train_step(images):\n",
    "    pass"
   ],
   "metadata": {
    "collapsed": false,
    "pycharm": {
     "name": "#%%\n"
    }
   }
  },
  {
   "cell_type": "code",
   "execution_count": null,
   "outputs": [],
   "source": [
    "def generate_and_save_images(model, epoch, test_input):\n",
    "    # Notice `training` is set to False.\n",
    "    # This is so all layers run in inference mode (batchnorm).\n",
    "    predictions = model(test_input, training=False)\n",
    "\n",
    "    fig = plt.figure(figsize=(8, 4), constrained_layout=True)\n",
    "\n",
    "    for i in range(predictions.shape[0]):\n",
    "        plt.subplot(2, 4, i + 1)\n",
    "        plt.imshow((predictions[i].numpy() * 127.5 + 127.5).astype(\"uint8\"))\n",
    "        plt.axis(\"off\")\n",
    "\n",
    "    plt.savefig(\"./betterimg/image_at_epoch_{:04d}.png\".format(epoch))\n",
    "    plt.show()"
   ],
   "metadata": {
    "collapsed": false,
    "pycharm": {
     "name": "#%%\n"
    }
   }
  },
  {
   "cell_type": "code",
   "execution_count": null,
   "outputs": [],
   "source": [
    "def train(train, test, validate, epochs):\n",
    "    pass"
   ],
   "metadata": {
    "collapsed": false,
    "pycharm": {
     "name": "#%%\n"
    }
   }
  },
  {
   "cell_type": "markdown",
   "source": [
    "## Train Model"
   ],
   "metadata": {
    "collapsed": false,
    "pycharm": {
     "name": "#%% md\n"
    }
   }
  },
  {
   "cell_type": "code",
   "execution_count": null,
   "outputs": [],
   "source": [],
   "metadata": {
    "collapsed": false,
    "pycharm": {
     "name": "#%%\n"
    }
   }
  },
  {
   "cell_type": "markdown",
   "source": [
    "## Evaluate model"
   ],
   "metadata": {
    "collapsed": false,
    "pycharm": {
     "name": "#%% md\n"
    }
   }
  },
  {
   "cell_type": "code",
   "execution_count": null,
   "outputs": [],
   "source": [
    "\n"
   ],
   "metadata": {
    "collapsed": false,
    "pycharm": {
     "name": "#%%\n"
    }
   }
  }
 ],
 "metadata": {
  "kernelspec": {
   "display_name": "Python 3 (ipykernel)",
   "language": "python",
   "name": "python3"
  },
  "language_info": {
   "codemirror_mode": {
    "name": "ipython",
    "version": 3
   },
   "file_extension": ".py",
   "mimetype": "text/x-python",
   "name": "python",
   "nbconvert_exporter": "python",
   "pygments_lexer": "ipython3",
   "version": "3.8.11"
  }
 },
 "nbformat": 4,
 "nbformat_minor": 5
}